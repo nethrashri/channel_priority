{
 "cells": [
  {
   "cell_type": "code",
   "execution_count": 1,
   "id": "9099418f-291a-427b-897e-2ef841b1dc6a",
   "metadata": {
    "tags": []
   },
   "outputs": [],
   "source": [
    "## LSTM Implementation"
   ]
  },
  {
   "cell_type": "code",
   "execution_count": null,
   "id": "9c293dd2-7403-4b35-bdb0-58586471a63d",
   "metadata": {},
   "outputs": [],
   "source": [
    "# import pandas as pd\n",
    "# import numpy as np\n",
    "# import torch\n",
    "# from torch import nn\n",
    "# from torch.utils.data import DataLoader, Dataset\n",
    "# from sklearn.preprocessing import LabelEncoder, MinMaxScaler\n",
    "# from sklearn.model_selection import train_test_split\n",
    "\n",
    "# # Step 1: Load and preprocess the data\n",
    "# df = pd.read_csv(\"netflix_single_user_balanced_pattern_v5.csv\")\n",
    "# df['timestamp'] = pd.to_datetime(df['timestamp'])\n",
    "\n",
    "# # Feature scaling\n",
    "# scaler = MinMaxScaler()\n",
    "# df[['usage_minutes', 'signal_strength', 'latency', 'bandwidth_speed_per_sec_mbps']] = scaler.fit_transform(\n",
    "#     df[['usage_minutes', 'signal_strength', 'latency', 'bandwidth_speed_per_sec_mbps']]\n",
    "# )\n",
    "\n",
    "# # Encode categorical features\n",
    "# label_encoders = {\n",
    "#     col: LabelEncoder().fit(df[col]) for col in ['service_group', 'service_name', 'device_type']\n",
    "# }\n",
    "# for col, encoder in label_encoders.items():\n",
    "#     df[col] = encoder.transform(df[col])\n",
    "\n",
    "# # Create sequences\n",
    "# sequence_length = 96  # 1 day with 15-minute intervals\n",
    "# features = ['usage_minutes', 'signal_strength', 'latency', 'bandwidth_speed_per_sec_mbps', 'service_group']\n",
    "# target = 'service_group'\n",
    "\n",
    "# def create_sequences(data, seq_length, target_col):\n",
    "#     sequences, targets = [], []\n",
    "#     for i in range(len(data) - seq_length):\n",
    "#         seq = data.iloc[i:i + seq_length][features].values\n",
    "#         label = data.iloc[i + seq_length][target_col]\n",
    "#         sequences.append(seq)\n",
    "#         targets.append(label)\n",
    "#     return np.array(sequences), np.array(targets)\n",
    "\n",
    "# X, y = create_sequences(df, sequence_length, target)\n",
    "# X_train, X_val, y_train, y_val = train_test_split(X, y, test_size=0.2, random_state=42)\n",
    "\n",
    "# # Step 2: Define the LSTM model\n",
    "# class LSTMModel(nn.Module):\n",
    "#     def __init__(self, input_dim, hidden_dim, output_dim, num_layers=1):\n",
    "#         super(LSTMModel, self).__init__()\n",
    "#         self.lstm = nn.LSTM(input_dim, hidden_dim, num_layers, batch_first=True)\n",
    "#         self.fc = nn.Linear(hidden_dim, output_dim)\n",
    "\n",
    "#     def forward(self, x):\n",
    "#         out, _ = self.lstm(x)\n",
    "#         out = self.fc(out[:, -1, :])  # Use the last hidden state\n",
    "#         return out\n",
    "\n",
    "# input_dim = len(features)\n",
    "# hidden_dim = 64\n",
    "# output_dim = len(label_encoders['service_group'].classes_)\n",
    "\n",
    "# model = LSTMModel(input_dim, hidden_dim, output_dim)\n",
    "\n",
    "# # Step 3: Define training components\n",
    "# criterion = nn.CrossEntropyLoss()\n",
    "# optimizer = torch.optim.Adam(model.parameters(), lr=0.001)\n",
    "\n",
    "# # Create DataLoaders\n",
    "# train_loader = DataLoader(\n",
    "#     list(zip(torch.tensor(X_train, dtype=torch.float32), torch.tensor(y_train, dtype=torch.long))),\n",
    "#     batch_size=32,\n",
    "#     shuffle=True\n",
    "# )\n",
    "\n",
    "# val_loader = DataLoader(\n",
    "#     list(zip(torch.tensor(X_val, dtype=torch.float32), torch.tensor(y_val, dtype=torch.long))),\n",
    "#     batch_size=32,\n",
    "#     shuffle=False\n",
    "# )\n",
    "\n",
    "# # Step 4: Train the model\n",
    "# for epoch in range(10):\n",
    "#     # Training loop\n",
    "#     model.train()\n",
    "#     train_loss = 0\n",
    "#     for X_batch, y_batch in train_loader:\n",
    "#         optimizer.zero_grad()\n",
    "#         y_pred = model(X_batch)\n",
    "#         loss = criterion(y_pred, y_batch)\n",
    "#         loss.backward()\n",
    "#         optimizer.step()\n",
    "#         train_loss += loss.item()\n",
    "#     print(f\"Epoch {epoch+1}, Training Loss: {train_loss / len(train_loader):.4f}\")\n",
    "\n",
    "#     # Validation loop\n",
    "#     model.eval()\n",
    "#     val_loss = 0\n",
    "#     with torch.no_grad():\n",
    "#         for X_val_batch, y_val_batch in val_loader:\n",
    "#             y_val_pred = model(X_val_batch)\n",
    "#             val_loss += criterion(y_val_pred, y_val_batch).item()\n",
    "#     print(f\"Epoch {epoch+1}, Validation Loss: {val_loss / len(val_loader):.4f}\")\n",
    "\n",
    "# # Step 5: Evaluate the model\n",
    "# def evaluate_accuracy(model, loader):\n",
    "#     model.eval()\n",
    "#     correct, total = 0, 0\n",
    "#     with torch.no_grad():\n",
    "#         for X_batch, y_batch in loader:\n",
    "#             y_pred = model(X_batch)\n",
    "#             y_pred_classes = torch.argmax(y_pred, dim=1)\n",
    "#             correct += (y_pred_classes == y_batch).sum().item()\n",
    "#             total += y_batch.size(0)\n",
    "#     return correct / total\n",
    "\n",
    "# train_accuracy = evaluate_accuracy(model, train_loader)\n",
    "# val_accuracy = evaluate_accuracy(model, val_loader)\n",
    "\n",
    "# print(f\"Training Accuracy: {train_accuracy:.4f}\")\n",
    "# print(f\"Validation Accuracy: {val_accuracy:.4f}\")\n",
    "\n",
    "# # Step 6: Save the model\n",
    "# torch.save(model.state_dict(), \"lstm_model.pth\")\n",
    "# print(\"Model saved as lstm_model.pth\")\n"
   ]
  },
  {
   "cell_type": "code",
   "execution_count": null,
   "id": "d17ab607-2699-4f7c-9cb9-9f645787f558",
   "metadata": {},
   "outputs": [],
   "source": []
  },
  {
   "cell_type": "code",
   "execution_count": 4,
   "id": "8c542fc8-44d3-43bb-a7e7-2a31ae34fae4",
   "metadata": {
    "tags": []
   },
   "outputs": [],
   "source": [
    "import tensorflow as tf\n",
    "import pandas as pd\n",
    "import numpy as np\n",
    "from sklearn.preprocessing import LabelEncoder, MinMaxScaler\n",
    "from sklearn.model_selection import train_test_split\n",
    "import matplotlib.pyplot as plt\n"
   ]
  },
  {
   "cell_type": "code",
   "execution_count": 5,
   "id": "1afce4fc-9a07-4bb2-8713-edc2bcfd3f35",
   "metadata": {
    "tags": []
   },
   "outputs": [
    {
     "name": "stdout",
     "output_type": "stream",
     "text": [
      "Error setting memory growth: Physical devices cannot be modified after being initialized\n"
     ]
    }
   ],
   "source": [
    "\n",
    "# Enable memory growth for GPUs\n",
    "gpus = tf.config.list_physical_devices('GPU')\n",
    "if gpus:\n",
    "    try:\n",
    "        for gpu in gpus:\n",
    "            tf.config.experimental.set_memory_growth(gpu, True)\n",
    "        print(\"Memory growth set for GPU\")\n",
    "    except RuntimeError as e:\n",
    "        print(f\"Error setting memory growth: {e}\")\n"
   ]
  },
  {
   "cell_type": "code",
   "execution_count": null,
   "id": "eaaa86b6-7d24-4d1e-bd0c-3586b7a1154a",
   "metadata": {},
   "outputs": [],
   "source": [
    "\n",
    "# Step 1: Load and preprocess the data\n",
    "df = pd.read_csv(\"netflix_single_user_balanced_pattern_v5.csv\")\n",
    "df['timestamp'] = pd.to_datetime(df['timestamp'])\n"
   ]
  },
  {
   "cell_type": "code",
   "execution_count": null,
   "id": "ae482b03-3ec9-4509-b47e-3c1623b995c7",
   "metadata": {},
   "outputs": [],
   "source": [
    "\n",
    "# Feature scaling\n",
    "scaler = MinMaxScaler()\n",
    "df[['usage_minutes', 'signal_strength', 'latency', 'bandwidth_speed_per_sec_mbps']] = scaler.fit_transform(\n",
    "    df[['usage_minutes', 'signal_strength', 'latency', 'bandwidth_speed_per_sec_mbps']]\n",
    ")\n"
   ]
  },
  {
   "cell_type": "code",
   "execution_count": null,
   "id": "5b14625a-67e1-4015-b0ee-128c05e5d479",
   "metadata": {},
   "outputs": [],
   "source": [
    "\n",
    "# Encode categorical features\n",
    "label_encoders = {\n",
    "    col: LabelEncoder().fit(df[col]) for col in ['service_group', 'service_name', 'device_type']\n",
    "}\n",
    "for col, encoder in label_encoders.items():\n",
    "    df[col] = encoder.transform(df[col])\n"
   ]
  },
  {
   "cell_type": "code",
   "execution_count": null,
   "id": "b741d220-7dd2-471c-8188-0111945fd624",
   "metadata": {},
   "outputs": [],
   "source": [
    "\n",
    "# Create sequences\n",
    "sequence_length = 96  # 1 day with 15-minute intervals\n",
    "features = ['usage_minutes', 'signal_strength', 'latency', 'bandwidth_speed_per_sec_mbps', 'service_group']\n",
    "target = 'service_group'\n",
    "\n",
    "def create_sequences(data, seq_length, target_col):\n",
    "    sequences, targets = [], []\n",
    "    for i in range(len(data) - seq_length):\n",
    "        seq = data.iloc[i:i + seq_length][features].values\n",
    "        label = data.iloc[i + seq_length][target_col]\n",
    "        sequences.append(seq)\n",
    "        targets.append(label)\n",
    "    return np.array(sequences), np.array(targets)\n"
   ]
  },
  {
   "cell_type": "code",
   "execution_count": null,
   "id": "8dff4dd5-efaf-4af3-b05a-6463bc95bd94",
   "metadata": {},
   "outputs": [],
   "source": [
    "\n",
    "# Create sequences\n",
    "X, y = create_sequences(df, sequence_length, target)\n",
    "\n",
    "# Split data into training and validation sets\n",
    "X_train, X_val, y_train, y_val = train_test_split(X, y, test_size=0.2, random_state=42)\n"
   ]
  },
  {
   "cell_type": "code",
   "execution_count": null,
   "id": "1d0cb4f0-ded6-411a-b11d-b5238b883ff7",
   "metadata": {},
   "outputs": [],
   "source": [
    "\n",
    "# Step 2: Define the LSTM model\n",
    "model = tf.keras.Sequential([\n",
    "    tf.keras.layers.Input(shape=(sequence_length, len(features))),  # Input layer\n",
    "    tf.keras.layers.LSTM(64, return_sequences=False),  # LSTM layer\n",
    "    tf.keras.layers.Dense(len(label_encoders['service_group'].classes_), activation='softmax')  # Output layer\n",
    "])\n",
    "\n",
    "model.compile(optimizer=tf.keras.optimizers.Adam(learning_rate=0.001), \n",
    "              loss='sparse_categorical_crossentropy', \n",
    "              metrics=['accuracy'])\n"
   ]
  },
  {
   "cell_type": "code",
   "execution_count": null,
   "id": "bf8e6671-7ba1-48a9-beef-370b0898b84f",
   "metadata": {},
   "outputs": [],
   "source": [
    "\n",
    "# Step 3: Train the model with a reduced batch size\n",
    "history = model.fit(\n",
    "    X_train, y_train,\n",
    "    validation_data=(X_val, y_val),\n",
    "    epochs=10,\n",
    "    batch_size=16,  # Reduce batch size for memory optimization\n",
    "    verbose=1\n",
    ")\n"
   ]
  },
  {
   "cell_type": "code",
   "execution_count": null,
   "id": "cb8f448a-400e-4f8c-bc74-2e1f8c24292a",
   "metadata": {},
   "outputs": [],
   "source": [
    "\n",
    "# Step 4: Evaluate the model\n",
    "train_loss, train_accuracy = model.evaluate(X_train, y_train, verbose=0)\n",
    "val_loss, val_accuracy = model.evaluate(X_val, y_val, verbose=0)\n",
    "\n",
    "print(f\"Training Accuracy: {train_accuracy:.4f}\")\n",
    "print(f\"Validation Accuracy: {val_accuracy:.4f}\")\n"
   ]
  },
  {
   "cell_type": "code",
   "execution_count": null,
   "id": "4d377d79-f818-4f72-93f0-2595ad44507c",
   "metadata": {},
   "outputs": [],
   "source": [
    "\n",
    "# Step 5: Save the model\n",
    "model.save(\"lstm_model_tf\")\n",
    "print(\"Model saved as 'lstm_model_tf'\")\n"
   ]
  },
  {
   "cell_type": "code",
   "execution_count": null,
   "id": "d3764be5-89e5-4e1f-832e-5d3997e15ff7",
   "metadata": {},
   "outputs": [],
   "source": [
    "\n",
    "# Step 6: Plot training and validation performance\n",
    "# Loss Plot\n",
    "plt.figure(figsize=(10, 5))\n",
    "plt.plot(history.history['loss'], label='Training Loss')\n",
    "plt.plot(history.history['val_loss'], label='Validation Loss')\n",
    "plt.title(\"Loss over Epochs\", fontsize=16)\n",
    "plt.xlabel(\"Epoch\", fontsize=12)\n",
    "plt.ylabel(\"Loss\", fontsize=12)\n",
    "plt.legend()\n",
    "plt.grid()\n",
    "plt.show()\n",
    "\n",
    "# Accuracy Plot\n",
    "plt.figure(figsize=(10, 5))\n",
    "plt.plot(history.history['accuracy'], label='Training Accuracy')\n",
    "plt.plot(history.history['val_accuracy'], label='Validation Accuracy')\n",
    "plt.title(\"Accuracy over Epochs\", fontsize=16)\n",
    "plt.xlabel(\"Epoch\", fontsize=12)\n",
    "plt.ylabel(\"Accuracy\", fontsize=12)\n",
    "plt.legend()\n",
    "plt.grid()\n",
    "plt.show()\n"
   ]
  },
  {
   "cell_type": "code",
   "execution_count": null,
   "id": "36cdf049-dfec-45a3-be4f-7222bbbf616d",
   "metadata": {},
   "outputs": [],
   "source": []
  },
  {
   "cell_type": "code",
   "execution_count": null,
   "id": "d496dc14-43d2-485d-8447-8eafd771fd91",
   "metadata": {},
   "outputs": [],
   "source": []
  },
  {
   "cell_type": "code",
   "execution_count": 6,
   "id": "a82553a8-78ec-4b7a-8c6c-01258c305c92",
   "metadata": {
    "tags": []
   },
   "outputs": [
    {
     "name": "stdout",
     "output_type": "stream",
     "text": [
      "Error setting memory growth: Physical devices cannot be modified after being initialized\n"
     ]
    },
    {
     "name": "stderr",
     "output_type": "stream",
     "text": [
      "WARNING:absl:At this time, the v2.11+ optimizer `tf.keras.optimizers.Adam` runs slowly on M1/M2 Macs, please use the legacy Keras optimizer instead, located at `tf.keras.optimizers.legacy.Adam`.\n"
     ]
    },
    {
     "name": "stdout",
     "output_type": "stream",
     "text": [
      "Epoch 1/10\n"
     ]
    },
    {
     "name": "stderr",
     "output_type": "stream",
     "text": [
      "2024-11-21 15:33:53.331123: I tensorflow/core/grappler/optimizers/custom_graph_optimizer_registry.cc:117] Plugin optimizer for device_type GPU is enabled.\n",
      "2024-11-21 15:33:53.370319: E tensorflow/core/grappler/optimizers/meta_optimizer.cc:961] model_pruner failed: INVALID_ARGUMENT: Graph does not contain terminal node Adam/AssignAddVariableOp.\n"
     ]
    },
    {
     "name": "stdout",
     "output_type": "stream",
     "text": [
      "3351/3351 [==============================] - 61s 17ms/step - loss: 0.7350 - accuracy: 0.6579 - val_loss: 0.5809 - val_accuracy: 0.7086\n",
      "Epoch 2/10\n",
      "3351/3351 [==============================] - 54s 16ms/step - loss: 0.5980 - accuracy: 0.7006 - val_loss: 0.5380 - val_accuracy: 0.7119\n",
      "Epoch 3/10\n",
      "3351/3351 [==============================] - 55s 16ms/step - loss: 0.5417 - accuracy: 0.7176 - val_loss: 0.5513 - val_accuracy: 0.7043\n",
      "Epoch 4/10\n",
      "3351/3351 [==============================] - 54s 16ms/step - loss: 0.5161 - accuracy: 0.7273 - val_loss: 0.5116 - val_accuracy: 0.7333\n",
      "Epoch 5/10\n",
      "3351/3351 [==============================] - 55s 16ms/step - loss: 0.5152 - accuracy: 0.7290 - val_loss: 0.5058 - val_accuracy: 0.7279\n",
      "Epoch 6/10\n",
      "3351/3351 [==============================] - 55s 16ms/step - loss: 0.5032 - accuracy: 0.7314 - val_loss: 0.4971 - val_accuracy: 0.7233\n",
      "Epoch 7/10\n",
      "3351/3351 [==============================] - 55s 16ms/step - loss: 0.4941 - accuracy: 0.7343 - val_loss: 0.5003 - val_accuracy: 0.7324\n",
      "Epoch 8/10\n",
      "3351/3351 [==============================] - 56s 17ms/step - loss: 0.4877 - accuracy: 0.7342 - val_loss: 0.4808 - val_accuracy: 0.7331\n",
      "Epoch 9/10\n",
      "3351/3351 [==============================] - 56s 17ms/step - loss: 0.4823 - accuracy: 0.7354 - val_loss: 0.4883 - val_accuracy: 0.7300\n",
      "Epoch 10/10\n",
      "3351/3351 [==============================] - 56s 17ms/step - loss: 0.4945 - accuracy: 0.7357 - val_loss: 0.4930 - val_accuracy: 0.7356\n",
      "Training Accuracy: 0.7381\n",
      "Validation Accuracy: 0.7356\n",
      "INFO:tensorflow:Assets written to: lstm_model_tf/assets\n"
     ]
    },
    {
     "name": "stderr",
     "output_type": "stream",
     "text": [
      "INFO:tensorflow:Assets written to: lstm_model_tf/assets\n"
     ]
    },
    {
     "name": "stdout",
     "output_type": "stream",
     "text": [
      "Model saved as 'lstm_model_tf'\n"
     ]
    },
    {
     "data": {
      "image/png": "[encoded data removed]",
      "text/plain": [
       "<Figure size 1000x500 with 1 Axes>"
      ]
     },
     "metadata": {},
     "output_type": "display_data"
    },
    {
     "data": {
      "image/png": "[encoded data removed]",
      "text/plain": [
       "<Figure size 1000x500 with 1 Axes>"
      ]
     },
     "metadata": {},
     "output_type": "display_data"
    }
   ],
   "source": [
    "import tensorflow as tf\n",
    "import pandas as pd\n",
    "import numpy as np\n",
    "from sklearn.preprocessing import LabelEncoder, MinMaxScaler\n",
    "from sklearn.model_selection import train_test_split\n",
    "import matplotlib.pyplot as plt\n",
    "\n",
    "# Enable memory growth for GPUs (must be done before initializing TensorFlow)\n",
    "gpus = tf.config.list_physical_devices('GPU')\n",
    "if gpus:\n",
    "    try:\n",
    "        for gpu in gpus:\n",
    "            tf.config.experimental.set_memory_growth(gpu, True)\n",
    "        print(\"Memory growth set for GPU\")\n",
    "    except RuntimeError as e:\n",
    "        print(f\"Error setting memory growth: {e}\")\n",
    "\n",
    "# Step 1: Load and preprocess the data\n",
    "df = pd.read_csv(\"netflix_single_user_balanced_pattern_v5.csv\")\n",
    "df['timestamp'] = pd.to_datetime(df['timestamp'])\n",
    "\n",
    "# Feature scaling\n",
    "scaler = MinMaxScaler()\n",
    "df[['usage_minutes', 'signal_strength', 'latency', 'bandwidth_speed_per_sec_mbps']] = scaler.fit_transform(\n",
    "    df[['usage_minutes', 'signal_strength', 'latency', 'bandwidth_speed_per_sec_mbps']]\n",
    ")\n",
    "\n",
    "# Encode categorical features\n",
    "label_encoders = {\n",
    "    col: LabelEncoder().fit(df[col]) for col in ['service_group', 'service_name', 'device_type']\n",
    "}\n",
    "for col, encoder in label_encoders.items():\n",
    "    df[col] = encoder.transform(df[col])\n",
    "\n",
    "# Create sequences\n",
    "sequence_length = 96  # 1 day with 15-minute intervals\n",
    "features = ['usage_minutes', 'signal_strength', 'latency', 'bandwidth_speed_per_sec_mbps', 'service_group']\n",
    "target = 'service_group'\n",
    "\n",
    "def create_sequences(data, seq_length, target_col):\n",
    "    sequences, targets = [], []\n",
    "    for i in range(len(data) - seq_length):\n",
    "        seq = data.iloc[i:i + seq_length][features].values\n",
    "        label = data.iloc[i + seq_length][target_col]\n",
    "        sequences.append(seq)\n",
    "        targets.append(label)\n",
    "    return np.array(sequences), np.array(targets)\n",
    "\n",
    "# Create sequences\n",
    "X, y = create_sequences(df, sequence_length, target)\n",
    "\n",
    "# Split data into training and validation sets\n",
    "X_train, X_val, y_train, y_val = train_test_split(X, y, test_size=0.2, random_state=42)\n",
    "\n",
    "# Step 2: Define the LSTM model\n",
    "model = tf.keras.Sequential([\n",
    "    tf.keras.layers.Input(shape=(sequence_length, len(features))),  # Input layer\n",
    "    tf.keras.layers.LSTM(64, return_sequences=False),  # LSTM layer\n",
    "    tf.keras.layers.Dense(len(label_encoders['service_group'].classes_), activation='softmax')  # Output layer\n",
    "])\n",
    "\n",
    "model.compile(optimizer=tf.keras.optimizers.Adam(learning_rate=0.001), \n",
    "              loss='sparse_categorical_crossentropy', \n",
    "              metrics=['accuracy'])\n",
    "\n",
    "# Step 3: Train the model with a reduced batch size\n",
    "history = model.fit(\n",
    "    X_train, y_train,\n",
    "    validation_data=(X_val, y_val),\n",
    "    epochs=10,\n",
    "    batch_size=16,  # Reduce batch size for memory optimization\n",
    "    verbose=1\n",
    ")\n",
    "\n",
    "# Step 4: Evaluate the model\n",
    "train_loss, train_accuracy = model.evaluate(X_train, y_train, verbose=0)\n",
    "val_loss, val_accuracy = model.evaluate(X_val, y_val, verbose=0)\n",
    "\n",
    "print(f\"Training Accuracy: {train_accuracy:.4f}\")\n",
    "print(f\"Validation Accuracy: {val_accuracy:.4f}\")\n",
    "\n",
    "# Step 5: Save the model\n",
    "model.save(\"lstm_model_tf\")\n",
    "print(\"Model saved as 'lstm_model_tf'\")\n",
    "\n",
    "# Step 6: Plot training and validation performance\n",
    "# Loss Plot\n",
    "plt.figure(figsize=(10, 5))\n",
    "plt.plot(history.history['loss'], label='Training Loss')\n",
    "plt.plot(history.history['val_loss'], label='Validation Loss')\n",
    "plt.title(\"Loss over Epochs\", fontsize=16)\n",
    "plt.xlabel(\"Epoch\", fontsize=12)\n",
    "plt.ylabel(\"Loss\", fontsize=12)\n",
    "plt.legend()\n",
    "plt.grid()\n",
    "plt.show()\n",
    "\n",
    "# Accuracy Plot\n",
    "plt.figure(figsize=(10, 5))\n",
    "plt.plot(history.history['accuracy'], label='Training Accuracy')\n",
    "plt.plot(history.history['val_accuracy'], label='Validation Accuracy')\n",
    "plt.title(\"Accuracy over Epochs\", fontsize=16)\n",
    "plt.xlabel(\"Epoch\", fontsize=12)\n",
    "plt.ylabel(\"Accuracy\", fontsize=12)\n",
    "plt.legend()\n",
    "plt.grid()\n",
    "plt.show()\n"
   ]
  },
  {
   "cell_type": "code",
   "execution_count": null,
   "id": "d5740233-f5df-42bb-9667-bfedb2ccbd2c",
   "metadata": {},
   "outputs": [],
   "source": []
  }
 ],
 "metadata": {
  "kernelspec": {
   "display_name": "Python 3 (ipykernel)",
   "language": "python",
   "name": "python3"
  },
  "language_info": {
   "codemirror_mode": {
    "name": "ipython",
    "version": 3
   },
   "file_extension": ".py",
   "mimetype": "text/x-python",
   "name": "python",
   "nbconvert_exporter": "python",
   "pygments_lexer": "ipython3",
   "version": "3.11.5"
  }
 },
 "nbformat": 4,
 "nbformat_minor": 5
}
