{
 "cells": [
  {
   "cell_type": "code",
   "execution_count": 1,
   "id": "b809ab11-48e4-4970-9179-7b3ecf606e91",
   "metadata": {},
   "outputs": [],
   "source": [
    "import pandas as pd\n",
    "import numpy as np\n",
    "from sklearn.preprocessing import LabelEncoder, MinMaxScaler\n",
    "from keras.models import Sequential\n",
    "from keras.layers import LSTM, Dense, Dropout\n",
    "import datetime as dt\n"
   ]
  },
  {
   "cell_type": "code",
   "execution_count": 2,
   "id": "f713f8fd-aeb4-4d79-b304-651a728e775e",
   "metadata": {},
   "outputs": [],
   "source": [
    "\n",
    "# Load Dataset\n",
    "df = pd.read_csv(\"netflix_single_user_balanced_pattern_v3.csv\")\n",
    "\n",
    "# Add Temporal Features\n",
    "df['timestamp'] = pd.to_datetime(df['timestamp'])\n",
    "df['hour'] = df['timestamp'].dt.hour\n",
    "df['day_of_week'] = df['timestamp'].dt.dayofweek\n",
    "df['is_weekend'] = df['day_of_week'].apply(lambda x: 1 if x >= 5 else 0)\n"
   ]
  },
  {
   "cell_type": "code",
   "execution_count": 3,
   "id": "d213f3ff-97b1-4893-a454-5deb7ec0d125",
   "metadata": {
    "tags": []
   },
   "outputs": [],
   "source": [
    "\n",
    "# Encode Categorical Features\n",
    "label_encoder_group = LabelEncoder()\n",
    "label_encoder_name = LabelEncoder()\n",
    "label_encoder_device = LabelEncoder()\n",
    "\n",
    "df['service_group_encoded'] = label_encoder_group.fit_transform(df['service_group'])\n",
    "df['service_name_encoded'] = label_encoder_name.fit_transform(df['service_name'])\n",
    "df['device_type_encoded'] = label_encoder_device.fit_transform(df['device_type'])\n"
   ]
  },
  {
   "cell_type": "code",
   "execution_count": 4,
   "id": "01ada6bf-820a-4e11-b9ae-2ec7b3058cc1",
   "metadata": {
    "tags": []
   },
   "outputs": [],
   "source": [
    "\n",
    "# Select Features and Target\n",
    "features = [\n",
    "    'hour', 'day_of_week', 'is_weekend', 'usage_minutes', 'usage_percentage',\n",
    "    'signal_strength', 'packet_loss_rate', 'latency', 'jitter_ms', 'traffic_spike',\n",
    "    'bandwidth_speed_per_sec_mbps', 'buffer_occupancy', 'device_type_encoded'\n",
    "]\n",
    "target_group = 'service_group_encoded'\n"
   ]
  },
  {
   "cell_type": "code",
   "execution_count": 5,
   "id": "710cb864-609f-4cef-83b8-8764b348fc01",
   "metadata": {
    "tags": []
   },
   "outputs": [],
   "source": [
    "\n",
    "# Scale Features\n",
    "scaler = MinMaxScaler()\n",
    "df[features] = scaler.fit_transform(df[features])\n"
   ]
  },
  {
   "cell_type": "code",
   "execution_count": null,
   "id": "1e167943-0b0d-4fca-9ddd-b85b033180c4",
   "metadata": {
    "tags": []
   },
   "outputs": [],
   "source": [
    "\n",
    "# Prepare Data for LSTM\n",
    "sequence_length = 96\n",
    "X = []\n",
    "y_group = []\n",
    "\n",
    "for i in range(len(df) - sequence_length):\n",
    "    X.append(df[features].iloc[i:i + sequence_length].values)\n",
    "    y_group.append(df[target_group].iloc[i + sequence_length])\n",
    "\n",
    "X = np.array(X)\n",
    "y_group = np.array(y_group)\n"
   ]
  },
  {
   "cell_type": "code",
   "execution_count": null,
   "id": "8f575084-3969-4e23-b167-315a529cf90a",
   "metadata": {
    "tags": []
   },
   "outputs": [],
   "source": [
    "\n",
    "# Train-Test Split\n",
    "from sklearn.model_selection import train_test_split\n",
    "X_train, X_test, y_group_train, y_group_test = train_test_split(X, y_group, test_size=0.2, random_state=42)\n"
   ]
  },
  {
   "cell_type": "code",
   "execution_count": null,
   "id": "12edbea7-659c-47c2-9e4d-e5969febd234",
   "metadata": {
    "tags": []
   },
   "outputs": [],
   "source": [
    "\n",
    "# Build LSTM Model\n",
    "input_shape = X_train.shape[1:]\n",
    "\n",
    "model_group = Sequential()\n",
    "model_group.add(LSTM(128, input_shape=input_shape, return_sequences=True))\n",
    "model_group.add(Dropout(0.2))\n",
    "model_group.add(LSTM(64))\n",
    "model_group.add(Dropout(0.2))\n",
    "model_group.add(Dense(64, activation='relu'))\n",
    "model_group.add(Dropout(0.2))\n",
    "model_group.add(Dense(len(label_encoder_group.classes_), activation='softmax'))\n"
   ]
  },
  {
   "cell_type": "code",
   "execution_count": null,
   "id": "c492c2ea-59b1-4916-b121-572edb73e9ce",
   "metadata": {},
   "outputs": [],
   "source": [
    "\n",
    "# Compile Model\n",
    "model_group.compile(optimizer='adam', loss='sparse_categorical_crossentropy', metrics=['accuracy'])\n"
   ]
  },
  {
   "cell_type": "code",
   "execution_count": null,
   "id": "dad4a355-42ed-40c2-acf6-2f4f8435661d",
   "metadata": {},
   "outputs": [],
   "source": [
    "\n",
    "# Train Model\n",
    "model_group.fit(X_train, y_group_train, validation_data=(X_test, y_group_test), epochs=5, batch_size=64)\n"
   ]
  },
  {
   "cell_type": "code",
   "execution_count": null,
   "id": "ac9417fc-2ab2-4bde-b595-b628d629794b",
   "metadata": {},
   "outputs": [],
   "source": [
    "\n",
    "# Predict Services for Specific Time Input\n",
    "def predict_services(hour, minute, day_of_week):\n",
    "    \"\"\"\n",
    "    Predict the service group and name for a specific time/hour/minute input.\n",
    "    :param hour: Hour of the day (0-23).\n",
    "    :param minute: Minute of the hour (0-59).\n",
    "    :param day_of_week: Day of the week (0=Monday, 6=Sunday).\n",
    "    :return: Predicted service group and service name.\n",
    "    \"\"\"\n",
    "    # Create a feature row with given inputs\n",
    "    test_input = {\n",
    "        'hour': hour / 23,  # Scale to 0-1\n",
    "        'day_of_week': day_of_week / 6,  # Scale to 0-1\n",
    "        'is_weekend': 1 if day_of_week >= 5 else 0,\n",
    "        'usage_minutes': 0.5,  # Example default (scaled)\n",
    "        'usage_percentage': 0.5,  # Example default (scaled)\n",
    "        'signal_strength': 0.5,  # Example default (scaled)\n",
    "        'packet_loss_rate': 0.01,  # Example default (scaled)\n",
    "        'latency': 0.5,  # Example default (scaled)\n",
    "        'jitter_ms': 0.1,  # Example default (scaled)\n",
    "        'traffic_spike': 0,  # Example default\n",
    "        'bandwidth_speed_per_sec_mbps': 0.5,  # Example default (scaled)\n",
    "        'buffer_occupancy': 0.5,  # Example default (scaled)\n",
    "        'device_type_encoded': 0.5  # Example default (scaled)\n",
    "    }\n",
    "  "
   ]
  },
  {
   "cell_type": "code",
   "execution_count": null,
   "id": "7d6c6942-f0ff-4e82-9029-913d6d90f5c0",
   "metadata": {},
   "outputs": [],
   "source": [
    "  \n",
    "    # Convert to DataFrame and array\n",
    "    test_df = pd.DataFrame([test_input])\n",
    "    test_array = test_df.values.reshape(1, 1, -1)  # LSTM expects 3D input\n",
    "\n",
    "    # Predict service group\n",
    "    predicted_group = model_group.predict(test_array)\n",
    "    predicted_group_class = np.argmax(predicted_group, axis=1)\n",
    "    predicted_service_group = label_encoder_group.inverse_transform(predicted_group_class)\n",
    "\n",
    "    return predicted_service_group[0]\n"
   ]
  },
  {
   "cell_type": "code",
   "execution_count": null,
   "id": "bbbfced0-9ea2-4cbe-b0c4-476a400ab7b4",
   "metadata": {},
   "outputs": [],
   "source": [
    "\n",
    "# Example Prediction\n",
    "hour = 20  # 8:00 PM\n",
    "minute = 30\n",
    "day_of_week = 4  # Friday\n",
    "\n",
    "predicted_service_group = predict_services(hour, minute, day_of_week)\n",
    "print(f\"Predicted Service Group for {hour}:{minute} on day {day_of_week}: {predicted_service_group}\")\n"
   ]
  }
 ],
 "metadata": {
  "kernelspec": {
   "display_name": "Python 3 (ipykernel)",
   "language": "python",
   "name": "python3"
  },
  "language_info": {
   "codemirror_mode": {
    "name": "ipython",
    "version": 3
   },
   "file_extension": ".py",
   "mimetype": "text/x-python",
   "name": "python",
   "nbconvert_exporter": "python",
   "pygments_lexer": "ipython3",
   "version": "3.11.5"
  }
 },
 "nbformat": 4,
 "nbformat_minor": 5
}
